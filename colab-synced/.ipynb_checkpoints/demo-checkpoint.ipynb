{
 "cells": [
  {
   "cell_type": "markdown",
   "id": "84c561c0-e63b-420b-af06-4385b7892188",
   "metadata": {},
   "source": [
    "This is a kind of document called a __jupyter notebook__"
   ]
  },
  {
   "cell_type": "markdown",
   "id": "605a09ad-7256-4781-80eb-9df74887ea54",
   "metadata": {},
   "source": [
    "Each cell in a jupyter notebook can be either code or markdown. Cells can be ran seperately, which makes juptyer notebooks an easy way to experiment with new snippets of code. Jupyter notebooks are quite popular. It's a convenient way to mix textual information with working code all in a single document.\n",
    "\n",
    "Best of all, you can do inline math with LaTeX right in a paragraph like this: $a^2 = b^2 + c^2$\n",
    "\n",
    "You can also do big fancy snippets of math like this:\n",
    "$$\n",
    "e^{i\\pi} = -1\n",
    "$$"
   ]
  },
  {
   "cell_type": "code",
   "execution_count": 1,
   "id": "662bcc72-69a5-42bf-bca2-9bcde1e0b2d3",
   "metadata": {},
   "outputs": [
    {
     "name": "stdout",
     "output_type": "stream",
     "text": [
      "hello world\n"
     ]
    }
   ],
   "source": [
    "# This is an example of a code cell\n",
    "print(\"hello world\")"
   ]
  },
  {
   "cell_type": "code",
   "execution_count": 2,
   "id": "b0e02e2b-a81c-4ebf-8110-257daff06437",
   "metadata": {},
   "outputs": [],
   "source": [
    "# we can do a little math\n",
    "# notice how we don't see an output like we did with print(\"hello world\")\n",
    "x = 2 + 2"
   ]
  },
  {
   "cell_type": "code",
   "execution_count": 3,
   "id": "78499170-f79c-48bd-8cbb-f472f122df5b",
   "metadata": {},
   "outputs": [
    {
     "name": "stdout",
     "output_type": "stream",
     "text": [
      "x is equal to 4\n",
      "4\n"
     ]
    }
   ],
   "source": [
    "# the notebook \"knows\" what x is, but it hasn't been told to tell us\n",
    "# to display the value of x, we can use print statements. \n",
    "print(f\"x is equal to {x}\")\n",
    "print()\n",
    "print(x)"
   ]
  },
  {
   "cell_type": "code",
   "execution_count": 4,
   "id": "5d1ad883-1440-49ff-8b44-4d0c9db004a9",
   "metadata": {},
   "outputs": [
    {
     "ename": "NameError",
     "evalue": "name 'y' is not defined",
     "output_type": "error",
     "traceback": [
      "\u001b[0;31m---------------------------------------------------------------------------\u001b[0m",
      "\u001b[0;31mNameError\u001b[0m                                 Traceback (most recent call last)",
      "Cell \u001b[0;32mIn[4], line 4\u001b[0m\n\u001b[1;32m      1\u001b[0m \u001b[38;5;66;03m# look happens if we add code that has errors\u001b[39;00m\n\u001b[1;32m      2\u001b[0m \u001b[38;5;66;03m# notice that one section of the error points to the exact point in the code where an error code\u001b[39;00m\n\u001b[1;32m      3\u001b[0m \u001b[38;5;66;03m# notice that an error name and description is given. \"NameError: name 'y' is not defined\". Searching things like this will help you greatly\u001b[39;00m\n\u001b[0;32m----> 4\u001b[0m \u001b[38;5;28mprint\u001b[39m(\u001b[43my\u001b[49m)\n",
      "\u001b[0;31mNameError\u001b[0m: name 'y' is not defined"
     ]
    }
   ],
   "source": [
    "# look happens if we add code that has errors\n",
    "# notice that one section of the error points to the exact point in the code where an error code\n",
    "# notice that an error name and description is given. \"NameError: name 'y' is not defined\". Searching things like this will help you greatly\n",
    "print(y)"
   ]
  },
  {
   "cell_type": "code",
   "execution_count": null,
   "id": "e30e0040-fb3e-43bd-ae6a-1f054b19905e",
   "metadata": {},
   "outputs": [],
   "source": [
    "# try adding your own code:\n",
    "### your code here ###"
   ]
  },
  {
   "cell_type": "markdown",
   "id": "1c372ad9-7b67-4118-b9dc-aa33f0bbf211",
   "metadata": {},
   "source": [
    "# Best practices and warnings\n",
    "__tldr__; When in doubt \"restart and run all cells\". \n",
    "\n",
    "Every time a cell is ran, it may \"change the state of the kernel\". This means that you can run a cell that writes variables and functions into memo, change the text in that cells significantly or even outright delete, and then forget what has been stored. This can lead to weird bugs for you, but __it can be really confusing for people you share the document with__ who may be unable to replicate what you've done.\n",
    "\n",
    "No matter what, when you save a jupyter notebook that other people will be using, make sure that you make a point to restart and run all cells. Check to make sure everything behaved as expected."
   ]
  }
 ],
 "metadata": {
  "kernelspec": {
   "display_name": "Python 3 (ipykernel)",
   "language": "python",
   "name": "python3"
  },
  "language_info": {
   "codemirror_mode": {
    "name": "ipython",
    "version": 3
   },
   "file_extension": ".py",
   "mimetype": "text/x-python",
   "name": "python",
   "nbconvert_exporter": "python",
   "pygments_lexer": "ipython3",
   "version": "3.12.1"
  }
 },
 "nbformat": 4,
 "nbformat_minor": 5
}
