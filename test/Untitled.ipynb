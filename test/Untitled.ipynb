{
 "cells": [
  {
   "cell_type": "code",
   "execution_count": null,
   "id": "7dc48498-62f6-4bf3-8e96-9537486454f2",
   "metadata": {},
   "outputs": [],
   "source": [
    "import numpy as np\n",
    "import matplotlib.pyplot as plt\n",
    "\n",
    "# Step 1: discretize the function\n",
    "# let's say that the shape is a 1 x 1 square\n",
    "Lx = 1\n",
    "Ly = 1\n",
    "n = 50 # number of points on each axis\n",
    "dx, dy = Lx/n, Ly/n\n",
    "\n",
    "# Step 2: represent the equations and boundary conditions in code\n",
    "u = 0.5 # conductivity, constant\n",
    "Bi = 0.1 # Biot number, unitless\n",
    "\n",
    "# (eq. 1) -div(e**u * grad(w)) = 0 in Omega\n",
    "# (eq. 2) -e**u * grad(w) * n = Biu on dOmega\\Gamma_r\n",
    "# (eq. 3) -e**u * grad(w) * n = -1 on Gamma_r\n"
   ]
  }
 ],
 "metadata": {
  "kernelspec": {
   "display_name": "Python 3 (ipykernel)",
   "language": "python",
   "name": "python3"
  },
  "language_info": {
   "codemirror_mode": {
    "name": "ipython",
    "version": 3
   },
   "file_extension": ".py",
   "mimetype": "text/x-python",
   "name": "python",
   "nbconvert_exporter": "python",
   "pygments_lexer": "ipython3",
   "version": "3.12.1"
  }
 },
 "nbformat": 4,
 "nbformat_minor": 5
}
